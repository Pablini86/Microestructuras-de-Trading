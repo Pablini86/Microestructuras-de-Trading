{
 "cells": [
  {
   "cell_type": "markdown",
   "id": "1f6eb94a",
   "metadata": {},
   "source": [
    "<center><font color=#555555><font size=6> MAF1731 - Microstructure and Trading Systems </font> <br> <br>\n",
    "    \n",
    "<center><font color=#555555><font size=5> B.Eng Financial Engineering </font> <br> <br> <br> <br>\n",
    "    \n",
    "    Pablo Lemus Castellanos\n",
    "    \n",
    "<center> <font color= #555555> <font size = 4> Junio 2023 </a> | <font color= #555555> <font size = 4> Repository: <a href='https://github.com/'>Link</a></font>"
   ]
  },
  {
   "cell_type": "markdown",
   "id": "b535e3f2",
   "metadata": {},
   "source": [
    "<center> <font color= #555555> <font size = 6> Module 1 : OrderBooks and PublicTrades </font> <br> <br> <font color= #555555> <font size = 5> Market Microstructure of Blockchain-Based Financial Assets </font>"
   ]
  },
  {
   "cell_type": "markdown",
   "id": "0023b448",
   "metadata": {},
   "source": [
    "# <font color= #6B6B6B> <font size = 6> 1. Introduction </font>\n",
    "<hr style=\"border:0.02in solid gray\"> </hr>"
   ]
  },
  {
   "cell_type": "markdown",
   "id": "a5a3770a",
   "metadata": {},
   "source": [
    "This notebook is provided as a case of study of Blockchain-Based financial assets, in particular, Bitcoin and Ethereum cryptocurrencies. Data within this notebook was extracted from the Kraken exchange and making use of the ccxt library. "
   ]
  },
  {
   "cell_type": "code",
   "execution_count": 20,
   "id": "0dd40e4b",
   "metadata": {},
   "outputs": [],
   "source": [
    "import scipy.stats as stats\n",
    "import pandas as pd\n",
    "import numpy as np\n",
    "import os \n",
    "import json"
   ]
  },
  {
   "cell_type": "code",
   "execution_count": 50,
   "id": "f9e45cb6",
   "metadata": {},
   "outputs": [
    {
     "ename": "SyntaxError",
     "evalue": "(unicode error) 'unicodeescape' codec can't decode bytes in position 0-1: truncated \\UXXXXXXXX escape (130006351.py, line 1)",
     "output_type": "error",
     "traceback": [
      "\u001b[1;36m  Cell \u001b[1;32mIn[50], line 1\u001b[1;36m\u001b[0m\n\u001b[1;33m    with open(\"\\Users\\pablo\\Downloads\\Python\\Microtrading\\uniswapv3_all_swaps_sqrtPriceX96.json\",\"r\") as o:\u001b[0m\n\u001b[1;37m                                                                                                ^\u001b[0m\n\u001b[1;31mSyntaxError\u001b[0m\u001b[1;31m:\u001b[0m (unicode error) 'unicodeescape' codec can't decode bytes in position 0-1: truncated \\UXXXXXXXX escape\n"
     ]
    }
   ],
   "source": [
    "with open(\"\\Users\\pablo\\Downloads\\Python\\Microtrading\\uniswapv3_all_swaps_sqrtPriceX96.json\",\"r\") as o:\n",
    "    dt = json.load(o)\n",
    "\n",
    "len(dt[\"swaps\"])\n",
    "\n",
    "dt(\"swaps\")(0)(\"id\")\n",
    "\n",
    "dt(\"swaps\")(0)(\"pool\")(\"id\")\n",
    "\n",
    "dt(\"swaps\")(0)(\"pool\")(\"token0\")\n",
    "dt(\"swaps\")(0)(\"pool\")(\"token0Price\")\n",
    "                       \n",
    "                       \n",
    "dt(\"swaps\")(0)(\"pool\")(\"token1\")\n",
    "dt(\"swaps\")(0)(\"pool\")(\"token1Price\")"
   ]
  },
  {
   "cell_type": "code",
   "execution_count": null,
   "id": "8e424c13",
   "metadata": {},
   "outputs": [],
   "source": []
  },
  {
   "cell_type": "code",
   "execution_count": 28,
   "id": "92365540",
   "metadata": {},
   "outputs": [
    {
     "ename": "NameError",
     "evalue": "name 'json' is not defined",
     "output_type": "error",
     "traceback": [
      "\u001b[1;31m---------------------------------------------------------------------------\u001b[0m",
      "\u001b[1;31mNameError\u001b[0m                                 Traceback (most recent call last)",
      "Cell \u001b[1;32mIn[28], line 1\u001b[0m\n\u001b[1;32m----> 1\u001b[0m data \u001b[38;5;241m=\u001b[39m \u001b[43mjson\u001b[49m\u001b[38;5;241m.\u001b[39mload(file_name \u001b[38;5;241m=\u001b[39m \u001b[38;5;124m'\u001b[39m\u001b[38;5;124muniswapv3_all_swaps_sqrtPriceX96.json\u001b[39m\u001b[38;5;124m'\u001b[39m, folder_route\u001b[38;5;241m=\u001b[39m \u001b[38;5;124m'\u001b[39m\u001b[38;5;124mmicrotrading/\u001b[39m\u001b[38;5;124m'\u001b[39m)\n\u001b[0;32m      2\u001b[0m data[\u001b[38;5;241m0\u001b[39m]\n",
      "\u001b[1;31mNameError\u001b[0m: name 'json' is not defined"
     ]
    }
   ],
   "source": [
    "data = json.load(file_name = 'uniswapv3_all_swaps_sqrtPriceX96.json', folder_route= 'microtrading/')\n",
    "data[0]"
   ]
  },
  {
   "cell_type": "code",
   "execution_count": null,
   "id": "3d3ce9fa",
   "metadata": {},
   "outputs": [],
   "source": [
    "# Average Price\n",
    "prices = [ np.round( fn.price_crypto(int(swaps[i]['sqrtPriceX96']), dec_token_1 = 10e18, dec_token_2 = 10e6),6 )\n",
    "          for i in range(len(swaps)) ]\n",
    "# Total Traded Volume\n",
    "vol_quote = [ np.round( float(swaps[i]['amount0']),6 ) for i in range(len(swaps)) ]\n",
    "vol_base = [ np.round( float(swaps[i]['amount1']),6 ) for i in range(len(swaps)) ]\n",
    "# Timestamps\n",
    "ts = [pd.to_datetime(int(swaps[i]['timestamp'])*1e9) for i in range(len(swaps))]\n",
    "# Quote Symbol\n",
    "quote_sym = [swaps[i]['pool']['token0']['symbol'] for i in range(len(swaps))]\n",
    "# Base Symbol\n",
    "base_sym = [swaps[i]['pool']['token1']['symbol'] for i in range(len(swaps))]\n",
    "# Operation\n",
    "op = ['buy' if float(swaps[i]['amount0'])<0 else 'sell' for i in range(len(swaps))]\n",
    "# Detail\n",
    "detail = ['Swap USDC for WETH' if float(swaps[i]['amount0'])<0 else 'Swap WETH for USDC' for i in range(len(swaps))]\n",
    "\n",
    "# DataFrame Weth/USDC\n",
    "df_wethusdc = pd.DataFrame([\n",
    "    range(len(swaps)), ts, prices, quote_sym, vol_quote, base_sym, vol_base, op, detail\n",
    "    ],\n",
    "    index = ['id', 'timestamp', 'weth/usdc', 'symbol_quote', 'volume_quote','symbol_base', 'volume_base', \n",
    "             'swap', 'swap_detail'\n",
    "              ],\n",
    "    columns = range(len(swaps))\n",
    ").transpose()"
   ]
  },
  {
   "cell_type": "code",
   "execution_count": null,
   "id": "5d6ee443",
   "metadata": {},
   "outputs": [],
   "source": []
  }
 ],
 "metadata": {
  "kernelspec": {
   "display_name": "Python 3 (ipykernel)",
   "language": "python",
   "name": "python3"
  },
  "language_info": {
   "codemirror_mode": {
    "name": "ipython",
    "version": 3
   },
   "file_extension": ".py",
   "mimetype": "text/x-python",
   "name": "python",
   "nbconvert_exporter": "python",
   "pygments_lexer": "ipython3",
   "version": "3.10.9"
  }
 },
 "nbformat": 4,
 "nbformat_minor": 5
}
